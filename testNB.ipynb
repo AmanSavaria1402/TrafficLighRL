{
 "cells": [
  {
   "cell_type": "code",
   "execution_count": 1,
   "id": "d92a4aef",
   "metadata": {},
   "outputs": [],
   "source": [
    "import numpy as np\n",
    "import pandas as pd\n",
    "import os\n",
    "import cityflow\n",
    "import json"
   ]
  },
  {
   "cell_type": "markdown",
   "id": "317a27f3",
   "metadata": {},
   "source": [
    "# Trying to see how CityFlow works"
   ]
  },
  {
   "cell_type": "code",
   "execution_count": 11,
   "id": "0158edd4",
   "metadata": {},
   "outputs": [],
   "source": [
    "# declaring an engine\n",
    "config_path = os.path.join('CFExamples', 'config.json')\n",
    "eng = cityflow.Engine(config_path, thread_num=1)"
   ]
  },
  {
   "cell_type": "code",
   "execution_count": 2,
   "id": "00bb8f62",
   "metadata": {},
   "outputs": [
    {
     "data": {
      "text/plain": [
       "'/home/lowkey/miniconda3/lib/python3.9/site-packages/cityflow.cpython-39-x86_64-linux-gnu.so'"
      ]
     },
     "execution_count": 2,
     "metadata": {},
     "output_type": "execute_result"
    }
   ],
   "source": [
    "cityflow.__file__"
   ]
  },
  {
   "cell_type": "markdown",
   "id": "b4b74537",
   "metadata": {},
   "source": [
    "So you need three things:\n",
    "1. __RoadNet File__: This file defines the road structure, contains information about everything of the road network. I have found a way to take data from OSM in SUMO, get its roadnet file and convert the sumo roadnet file to CityFlow roadnet file.\n",
    "2. __Flow File__: This file defines all the vehicles in the simulation, their parameters such as max speed, acceleration values, their route, movement start and end times in simulation. I need to find a way to simulate this/create this for road networks. SUMO does it, I hope I can get something for that in SUMO.\n",
    "3. __Config File__: This is the file thats given as input to the cityflow class, its essentially a list of parameters such as location of flow and oradnet files, and whetehr to save replays etc.<br><br> For cityflow, there is a generate scenario file that can generate a roadnet and a flow file. Maybe I can get something from it about *generating/simulating* flow files."
   ]
  },
  {
   "cell_type": "code",
   "execution_count": 8,
   "id": "324c8a12",
   "metadata": {},
   "outputs": [],
   "source": [
    "# Loading the flow json file\n",
    "with open(os.path.join(\"CFExamples\", 'flow.json'), 'r') as f:\n",
    "    flow = json.load(f)"
   ]
  },
  {
   "cell_type": "code",
   "execution_count": 9,
   "id": "7ca787eb",
   "metadata": {},
   "outputs": [
    {
     "name": "stdout",
     "output_type": "stream",
     "text": [
      "Number of vehicles:  12\n"
     ]
    }
   ],
   "source": [
    "print(\"Number of vehicles: \", len(flow))"
   ]
  },
  {
   "cell_type": "code",
   "execution_count": 5,
   "id": "45e58f0a",
   "metadata": {},
   "outputs": [],
   "source": [
    "# take a step\n",
    "eng.next_step()"
   ]
  },
  {
   "cell_type": "code",
   "execution_count": 6,
   "id": "b085ebea",
   "metadata": {},
   "outputs": [
    {
     "data": {
      "text/plain": [
       "12"
      ]
     },
     "execution_count": 6,
     "metadata": {},
     "output_type": "execute_result"
    }
   ],
   "source": [
    "# from the cityflow api\n",
    "# NOTE: This function gives the count of running vehicles, there might be more vehicles but if theyre stopped, it wont be counted.\n",
    "# TODO: Need to check what exactly does stop mean here.\n",
    "eng.get_vehicle_count()"
   ]
  },
  {
   "cell_type": "code",
   "execution_count": 34,
   "id": "87073287",
   "metadata": {},
   "outputs": [],
   "source": [
    "eng.reset()"
   ]
  },
  {
   "cell_type": "code",
   "execution_count": 35,
   "id": "ec91d889",
   "metadata": {},
   "outputs": [
    {
     "data": {
      "text/plain": [
       "(0, [])"
      ]
     },
     "execution_count": 35,
     "metadata": {},
     "output_type": "execute_result"
    }
   ],
   "source": [
    "eng.get_vehicle_count(), eng.get_vehicles(include_waiting=True)"
   ]
  },
  {
   "cell_type": "code",
   "execution_count": 12,
   "id": "b3e5a959",
   "metadata": {},
   "outputs": [],
   "source": [
    "# running for 10000 steps, to check whats stored in the replay file\n",
    "# eng.reset()\n",
    "for i in range(20):\n",
    "    eng.next_step()"
   ]
  },
  {
   "cell_type": "markdown",
   "id": "392f0aae",
   "metadata": {},
   "source": [
    "__Important:__<br>\n",
    "- So replay.txt stores some data for each step, but its appended, not really replaced everytime you reset an environment.\n",
    "- You need to run the entire simulation, and once its done, the saved roadnet and replay __log__ files are used in the frontent. Got it."
   ]
  },
  {
   "cell_type": "code",
   "execution_count": null,
   "id": "13f58a1c",
   "metadata": {},
   "outputs": [],
   "source": []
  },
  {
   "cell_type": "markdown",
   "id": "7d152947",
   "metadata": {},
   "source": [
    "# Going through the generate scenario files"
   ]
  },
  {
   "cell_type": "code",
   "execution_count": 2,
   "id": "edc5ba7d",
   "metadata": {},
   "outputs": [],
   "source": [
    "from CityflowTools.generate_json_from_grid import * # will go through this as needed"
   ]
  },
  {
   "cell_type": "code",
   "execution_count": 3,
   "id": "5e3151bd",
   "metadata": {},
   "outputs": [],
   "source": [
    "roadnetFilePath = 'generated/Test1x1RoadNet.json'\n",
    "flowFilePath = 'generated/Test1x1Flow.json'"
   ]
  },
  {
   "cell_type": "code",
   "execution_count": 4,
   "id": "a848426c",
   "metadata": {},
   "outputs": [],
   "source": [
    "# dictionary of parameters forgenerated the roadnet file (taking default values for the time being)\n",
    "grid = {\n",
    "        \"rowNumber\": 1,\n",
    "        \"columnNumber\": 1,\n",
    "        \"rowDistances\": [300] * (1-1),\n",
    "        \"columnDistances\": [300] * (1-1),\n",
    "        \"outRowDistance\": 300,\n",
    "        \"outColumnDistance\": 300,\n",
    "        \"intersectionWidths\": [[30] * 1] * 1,\n",
    "        \"numLeftLanes\": 1,\n",
    "        \"numStraightLanes\": 1,\n",
    "        \"numRightLanes\": 1,\n",
    "        \"laneMaxSpeed\": 16.67,\n",
    "        \"tlPlan\": 'store_true'\n",
    "    }"
   ]
  },
  {
   "cell_type": "code",
   "execution_count": 5,
   "id": "d76ec531",
   "metadata": {},
   "outputs": [],
   "source": [
    "# generating the roadnet file\n",
    "roadNetJson = gridToRoadnet(**grid)"
   ]
  },
  {
   "cell_type": "code",
   "execution_count": 14,
   "id": "87af6168",
   "metadata": {},
   "outputs": [],
   "source": [
    "# saving to disc\n",
    "json.dump(roadNetJson, open(roadnetFilePath, 'w'), indent=4)"
   ]
  },
  {
   "cell_type": "markdown",
   "id": "f34df7e4",
   "metadata": {},
   "source": [
    "Before moving on, I want to check the road ids"
   ]
  },
  {
   "cell_type": "code",
   "execution_count": 6,
   "id": "d72050fe",
   "metadata": {},
   "outputs": [
    {
     "data": {
      "text/plain": [
       "[{'id': 'road_1_0_1',\n",
       "  'points': [{'x': 0, 'y': -300}, {'x': 0, 'y': 0}],\n",
       "  'lanes': [{'width': 4, 'maxSpeed': 16.67},\n",
       "   {'width': 4, 'maxSpeed': 16.67},\n",
       "   {'width': 4, 'maxSpeed': 16.67}],\n",
       "  'startIntersection': 'intersection_1_0',\n",
       "  'endIntersection': 'intersection_1_1'},\n",
       " {'id': 'road_0_1_0',\n",
       "  'points': [{'x': -300, 'y': 0}, {'x': 0, 'y': 0}],\n",
       "  'lanes': [{'width': 4, 'maxSpeed': 16.67},\n",
       "   {'width': 4, 'maxSpeed': 16.67},\n",
       "   {'width': 4, 'maxSpeed': 16.67}],\n",
       "  'startIntersection': 'intersection_0_1',\n",
       "  'endIntersection': 'intersection_1_1'},\n",
       " {'id': 'road_1_1_0',\n",
       "  'points': [{'x': 0, 'y': 0}, {'x': 300, 'y': 0}],\n",
       "  'lanes': [{'width': 4, 'maxSpeed': 16.67},\n",
       "   {'width': 4, 'maxSpeed': 16.67},\n",
       "   {'width': 4, 'maxSpeed': 16.67}],\n",
       "  'startIntersection': 'intersection_1_1',\n",
       "  'endIntersection': 'intersection_2_1'},\n",
       " {'id': 'road_1_1_1',\n",
       "  'points': [{'x': 0, 'y': 0}, {'x': 0, 'y': 300}],\n",
       "  'lanes': [{'width': 4, 'maxSpeed': 16.67},\n",
       "   {'width': 4, 'maxSpeed': 16.67},\n",
       "   {'width': 4, 'maxSpeed': 16.67}],\n",
       "  'startIntersection': 'intersection_1_1',\n",
       "  'endIntersection': 'intersection_1_2'},\n",
       " {'id': 'road_1_1_2',\n",
       "  'points': [{'x': 0, 'y': 0}, {'x': -300, 'y': 0}],\n",
       "  'lanes': [{'width': 4, 'maxSpeed': 16.67},\n",
       "   {'width': 4, 'maxSpeed': 16.67},\n",
       "   {'width': 4, 'maxSpeed': 16.67}],\n",
       "  'startIntersection': 'intersection_1_1',\n",
       "  'endIntersection': 'intersection_0_1'},\n",
       " {'id': 'road_1_1_3',\n",
       "  'points': [{'x': 0, 'y': 0}, {'x': 0, 'y': -300}],\n",
       "  'lanes': [{'width': 4, 'maxSpeed': 16.67},\n",
       "   {'width': 4, 'maxSpeed': 16.67},\n",
       "   {'width': 4, 'maxSpeed': 16.67}],\n",
       "  'startIntersection': 'intersection_1_1',\n",
       "  'endIntersection': 'intersection_1_0'},\n",
       " {'id': 'road_2_1_2',\n",
       "  'points': [{'x': 300, 'y': 0}, {'x': 0, 'y': 0}],\n",
       "  'lanes': [{'width': 4, 'maxSpeed': 16.67},\n",
       "   {'width': 4, 'maxSpeed': 16.67},\n",
       "   {'width': 4, 'maxSpeed': 16.67}],\n",
       "  'startIntersection': 'intersection_2_1',\n",
       "  'endIntersection': 'intersection_1_1'},\n",
       " {'id': 'road_1_2_3',\n",
       "  'points': [{'x': 0, 'y': 300}, {'x': 0, 'y': 0}],\n",
       "  'lanes': [{'width': 4, 'maxSpeed': 16.67},\n",
       "   {'width': 4, 'maxSpeed': 16.67},\n",
       "   {'width': 4, 'maxSpeed': 16.67}],\n",
       "  'startIntersection': 'intersection_1_2',\n",
       "  'endIntersection': 'intersection_1_1'}]"
      ]
     },
     "execution_count": 6,
     "metadata": {},
     "output_type": "execute_result"
    }
   ],
   "source": [
    "roadNetJson['roads']"
   ]
  },
  {
   "cell_type": "markdown",
   "id": "ed5f663c",
   "metadata": {},
   "source": [
    "The roadnet file is generated, gotta see how the flow file corresponding to it is generated.\n",
    "\n",
    "__NOTE:__ Need to set turn to True, otherwise, I wont get any turning traffic."
   ]
  },
  {
   "cell_type": "code",
   "execution_count": 7,
   "id": "d24de0c6",
   "metadata": {},
   "outputs": [],
   "source": [
    "# parameters for flow file methinks\n",
    "vehicle_template = {\n",
    "        \"length\": 5.0,\n",
    "        \"width\": 2.0,\n",
    "        \"maxPosAcc\": 2.0,\n",
    "        \"maxNegAcc\": 4.5, # Acc is acceleration\n",
    "        \"usualPosAcc\": 2.0,\n",
    "        \"usualNegAcc\": 4.5,\n",
    "        \"minGap\": 2.5,\n",
    "        \"maxSpeed\": 16.67,\n",
    "        \"headwayTime\": 1.5\n",
    "    }"
   ]
  },
  {
   "cell_type": "code",
   "execution_count": 8,
   "id": "727de475",
   "metadata": {},
   "outputs": [],
   "source": [
    "routes = []\n",
    "move = [(1, 0), (0, 1), (-1, 0), (0, -1)]"
   ]
  },
  {
   "cell_type": "code",
   "execution_count": 9,
   "id": "05fae07e",
   "metadata": {},
   "outputs": [],
   "source": [
    "# some helper functions\n",
    "def get_straight_route(start, direction, step):\n",
    "    x, y = start\n",
    "    route = []\n",
    "    for _ in range(step):\n",
    "        route.append(\"road_%d_%d_%d\" % (x, y, direction))\n",
    "        x += move[direction][0]\n",
    "        y += move[direction][1]\n",
    "    return route\n",
    "\n",
    "def get_turn_route(start, direction, rowNum, colNum):\n",
    "    if direction[0] % 2 == 0:\n",
    "        step = min(rowNum*2, colNum*2+1)\n",
    "    else:\n",
    "        step = min(colNum*2, rowNum*2+1)\n",
    "    x, y = start\n",
    "    route = []\n",
    "    cur = 0\n",
    "    for _ in range(step):\n",
    "        route.append(\"road_%d_%d_%d\" % (x, y, direction[cur]))\n",
    "        x += move[direction[cur]][0]\n",
    "        y += move[direction[cur]][1]\n",
    "        cur = 1 - cur\n",
    "    return route"
   ]
  },
  {
   "cell_type": "code",
   "execution_count": 10,
   "id": "248ddc47",
   "metadata": {},
   "outputs": [],
   "source": [
    "routes = []\n",
    "move = [(1, 0), (0, 1), (-1, 0), (0, -1)]\n",
    "for i in range(1, 1+1):\n",
    "    routes.append(get_straight_route((0, i), 0, 1+1))\n",
    "    routes.append(get_straight_route((1+1, i), 2, 1+1))\n",
    "for i in range(1, 1+1):\n",
    "    routes.append(get_straight_route((i, 0), 1, 1+1))\n",
    "    routes.append(get_straight_route((i, 1+1), 3, 1+1))"
   ]
  },
  {
   "cell_type": "code",
   "execution_count": 11,
   "id": "278bce57",
   "metadata": {},
   "outputs": [],
   "source": [
    "routes.append(get_turn_route((1, 0), (1, 0), 1, 1))\n",
    "routes.append(get_turn_route((0, 1), (0, 1), 1, 1))\n",
    "routes.append(get_turn_route((1+1, 1), (2, 3), 1, 1))\n",
    "routes.append(get_turn_route((1, 1+1), (3, 2), 1, 1))\n",
    "routes.append(get_turn_route((0, 1), (0, 3), 1, 1))\n",
    "routes.append(get_turn_route((1, 1+1), (3, 0), 1, 1))\n",
    "routes.append(get_turn_route((1+1, 1), (2, 1), 1, 1))\n",
    "routes.append(get_turn_route((1, 0), (1, 2), 1, 1))"
   ]
  },
  {
   "cell_type": "code",
   "execution_count": 12,
   "id": "e0fd1cf3",
   "metadata": {},
   "outputs": [],
   "source": [
    "flow = []\n",
    "for route in routes:\n",
    "    flow.append({\n",
    "        \"vehicle\": vehicle_template,\n",
    "        \"route\": route,\n",
    "        \"interval\": 2,\n",
    "        \"startTime\": 0,\n",
    "        \"endTime\": -1\n",
    "    })"
   ]
  },
  {
   "cell_type": "code",
   "execution_count": 13,
   "id": "f1c2a9fa",
   "metadata": {},
   "outputs": [
    {
     "data": {
      "text/plain": [
       "[{'vehicle': {'length': 5.0,\n",
       "   'width': 2.0,\n",
       "   'maxPosAcc': 2.0,\n",
       "   'maxNegAcc': 4.5,\n",
       "   'usualPosAcc': 2.0,\n",
       "   'usualNegAcc': 4.5,\n",
       "   'minGap': 2.5,\n",
       "   'maxSpeed': 16.67,\n",
       "   'headwayTime': 1.5},\n",
       "  'route': ['road_0_1_0', 'road_1_1_0'],\n",
       "  'interval': 2,\n",
       "  'startTime': 0,\n",
       "  'endTime': -1},\n",
       " {'vehicle': {'length': 5.0,\n",
       "   'width': 2.0,\n",
       "   'maxPosAcc': 2.0,\n",
       "   'maxNegAcc': 4.5,\n",
       "   'usualPosAcc': 2.0,\n",
       "   'usualNegAcc': 4.5,\n",
       "   'minGap': 2.5,\n",
       "   'maxSpeed': 16.67,\n",
       "   'headwayTime': 1.5},\n",
       "  'route': ['road_2_1_2', 'road_1_1_2'],\n",
       "  'interval': 2,\n",
       "  'startTime': 0,\n",
       "  'endTime': -1},\n",
       " {'vehicle': {'length': 5.0,\n",
       "   'width': 2.0,\n",
       "   'maxPosAcc': 2.0,\n",
       "   'maxNegAcc': 4.5,\n",
       "   'usualPosAcc': 2.0,\n",
       "   'usualNegAcc': 4.5,\n",
       "   'minGap': 2.5,\n",
       "   'maxSpeed': 16.67,\n",
       "   'headwayTime': 1.5},\n",
       "  'route': ['road_1_0_1', 'road_1_1_1'],\n",
       "  'interval': 2,\n",
       "  'startTime': 0,\n",
       "  'endTime': -1},\n",
       " {'vehicle': {'length': 5.0,\n",
       "   'width': 2.0,\n",
       "   'maxPosAcc': 2.0,\n",
       "   'maxNegAcc': 4.5,\n",
       "   'usualPosAcc': 2.0,\n",
       "   'usualNegAcc': 4.5,\n",
       "   'minGap': 2.5,\n",
       "   'maxSpeed': 16.67,\n",
       "   'headwayTime': 1.5},\n",
       "  'route': ['road_1_2_3', 'road_1_1_3'],\n",
       "  'interval': 2,\n",
       "  'startTime': 0,\n",
       "  'endTime': -1},\n",
       " {'vehicle': {'length': 5.0,\n",
       "   'width': 2.0,\n",
       "   'maxPosAcc': 2.0,\n",
       "   'maxNegAcc': 4.5,\n",
       "   'usualPosAcc': 2.0,\n",
       "   'usualNegAcc': 4.5,\n",
       "   'minGap': 2.5,\n",
       "   'maxSpeed': 16.67,\n",
       "   'headwayTime': 1.5},\n",
       "  'route': ['road_1_0_1', 'road_1_1_0'],\n",
       "  'interval': 2,\n",
       "  'startTime': 0,\n",
       "  'endTime': -1},\n",
       " {'vehicle': {'length': 5.0,\n",
       "   'width': 2.0,\n",
       "   'maxPosAcc': 2.0,\n",
       "   'maxNegAcc': 4.5,\n",
       "   'usualPosAcc': 2.0,\n",
       "   'usualNegAcc': 4.5,\n",
       "   'minGap': 2.5,\n",
       "   'maxSpeed': 16.67,\n",
       "   'headwayTime': 1.5},\n",
       "  'route': ['road_0_1_0', 'road_1_1_1'],\n",
       "  'interval': 2,\n",
       "  'startTime': 0,\n",
       "  'endTime': -1},\n",
       " {'vehicle': {'length': 5.0,\n",
       "   'width': 2.0,\n",
       "   'maxPosAcc': 2.0,\n",
       "   'maxNegAcc': 4.5,\n",
       "   'usualPosAcc': 2.0,\n",
       "   'usualNegAcc': 4.5,\n",
       "   'minGap': 2.5,\n",
       "   'maxSpeed': 16.67,\n",
       "   'headwayTime': 1.5},\n",
       "  'route': ['road_2_1_2', 'road_1_1_3'],\n",
       "  'interval': 2,\n",
       "  'startTime': 0,\n",
       "  'endTime': -1},\n",
       " {'vehicle': {'length': 5.0,\n",
       "   'width': 2.0,\n",
       "   'maxPosAcc': 2.0,\n",
       "   'maxNegAcc': 4.5,\n",
       "   'usualPosAcc': 2.0,\n",
       "   'usualNegAcc': 4.5,\n",
       "   'minGap': 2.5,\n",
       "   'maxSpeed': 16.67,\n",
       "   'headwayTime': 1.5},\n",
       "  'route': ['road_1_2_3', 'road_1_1_2'],\n",
       "  'interval': 2,\n",
       "  'startTime': 0,\n",
       "  'endTime': -1},\n",
       " {'vehicle': {'length': 5.0,\n",
       "   'width': 2.0,\n",
       "   'maxPosAcc': 2.0,\n",
       "   'maxNegAcc': 4.5,\n",
       "   'usualPosAcc': 2.0,\n",
       "   'usualNegAcc': 4.5,\n",
       "   'minGap': 2.5,\n",
       "   'maxSpeed': 16.67,\n",
       "   'headwayTime': 1.5},\n",
       "  'route': ['road_0_1_0', 'road_1_1_3'],\n",
       "  'interval': 2,\n",
       "  'startTime': 0,\n",
       "  'endTime': -1},\n",
       " {'vehicle': {'length': 5.0,\n",
       "   'width': 2.0,\n",
       "   'maxPosAcc': 2.0,\n",
       "   'maxNegAcc': 4.5,\n",
       "   'usualPosAcc': 2.0,\n",
       "   'usualNegAcc': 4.5,\n",
       "   'minGap': 2.5,\n",
       "   'maxSpeed': 16.67,\n",
       "   'headwayTime': 1.5},\n",
       "  'route': ['road_1_2_3', 'road_1_1_0'],\n",
       "  'interval': 2,\n",
       "  'startTime': 0,\n",
       "  'endTime': -1},\n",
       " {'vehicle': {'length': 5.0,\n",
       "   'width': 2.0,\n",
       "   'maxPosAcc': 2.0,\n",
       "   'maxNegAcc': 4.5,\n",
       "   'usualPosAcc': 2.0,\n",
       "   'usualNegAcc': 4.5,\n",
       "   'minGap': 2.5,\n",
       "   'maxSpeed': 16.67,\n",
       "   'headwayTime': 1.5},\n",
       "  'route': ['road_2_1_2', 'road_1_1_1'],\n",
       "  'interval': 2,\n",
       "  'startTime': 0,\n",
       "  'endTime': -1},\n",
       " {'vehicle': {'length': 5.0,\n",
       "   'width': 2.0,\n",
       "   'maxPosAcc': 2.0,\n",
       "   'maxNegAcc': 4.5,\n",
       "   'usualPosAcc': 2.0,\n",
       "   'usualNegAcc': 4.5,\n",
       "   'minGap': 2.5,\n",
       "   'maxSpeed': 16.67,\n",
       "   'headwayTime': 1.5},\n",
       "  'route': ['road_1_0_1', 'road_1_1_2'],\n",
       "  'interval': 2,\n",
       "  'startTime': 0,\n",
       "  'endTime': -1}]"
      ]
     },
     "execution_count": 13,
     "metadata": {},
     "output_type": "execute_result"
    }
   ],
   "source": [
    "flow"
   ]
  },
  {
   "cell_type": "code",
   "execution_count": 16,
   "id": "7cd2bef7",
   "metadata": {},
   "outputs": [],
   "source": [
    "# saving to disc\n",
    "json.dump(flow, open(flowFilePath, 'w'), indent=4)"
   ]
  },
  {
   "cell_type": "code",
   "execution_count": 14,
   "id": "eb43d43f",
   "metadata": {},
   "outputs": [
    {
     "data": {
      "text/plain": [
       "12"
      ]
     },
     "execution_count": 14,
     "metadata": {},
     "output_type": "execute_result"
    }
   ],
   "source": [
    "len(flow)"
   ]
  },
  {
   "cell_type": "markdown",
   "id": "1ecb3bcd",
   "metadata": {},
   "source": [
    "# Now that Ive generated the flow and roadnet file, trying to make some traffic flow and simulating it (just to check)\n",
    "\n",
    "For EW and WE, the rate is 300/lane/hour and NS and SN will have 90/lane/hour flow, for turning, Im taking an average of 150/lane/hour. Taken from the [Colight](https://arxiv.org/abs/1905.05717#) paper."
   ]
  },
  {
   "cell_type": "code",
   "execution_count": 5,
   "id": "edb04c45",
   "metadata": {},
   "outputs": [
    {
     "data": {
      "text/plain": [
       "(12.0, 40.0, 24.0)"
      ]
     },
     "execution_count": 5,
     "metadata": {},
     "output_type": "execute_result"
    }
   ],
   "source": [
    "3600/300, 3600/90, 3600/150"
   ]
  },
  {
   "cell_type": "code",
   "execution_count": 3,
   "id": "cd581960",
   "metadata": {},
   "outputs": [],
   "source": [
    "# declaring an engine\n",
    "config_path = os.path.join('generated', 'config.json')\n",
    "eng = cityflow.Engine(config_path, thread_num=1)"
   ]
  },
  {
   "cell_type": "code",
   "execution_count": 32,
   "id": "72dc2a41",
   "metadata": {},
   "outputs": [],
   "source": [
    "# running for 10000 steps, to check whats stored in the replay file\n",
    "# eng.reset()\n",
    "for i in range(10800):\n",
    "    eng.next_step()"
   ]
  },
  {
   "cell_type": "markdown",
   "id": "5f72266f",
   "metadata": {},
   "source": [
    "## Now that I managed to simulate the traffic, I gotta do the following programmatically:\n",
    "1. Find a way to get vechicle counts for each incoming lane.\n",
    "2. Find a way to get the reward function definition.\n",
    "3. Find a way to control traffic lights programmatically.\n",
    "4. Find a way to take a step in the environment.\n",
    "\n",
    "___\n",
    "\n",
    "#### 1. Getting vehicle counts for each lane"
   ]
  },
  {
   "cell_type": "code",
   "execution_count": 33,
   "id": "3fe5da44",
   "metadata": {},
   "outputs": [],
   "source": [
    "# declaring an engine\n",
    "config_path = os.path.join('generated', 'config.json')\n",
    "eng = cityflow.Engine(config_path, thread_num=1)"
   ]
  },
  {
   "cell_type": "code",
   "execution_count": 16,
   "id": "2c6851c3",
   "metadata": {},
   "outputs": [],
   "source": [
    "# take a step\n",
    "eng.next_step()\n",
    "# eng.reset()"
   ]
  },
  {
   "cell_type": "code",
   "execution_count": 34,
   "id": "88c38d8d",
   "metadata": {},
   "outputs": [
    {
     "data": {
      "text/plain": [
       "0"
      ]
     },
     "execution_count": 34,
     "metadata": {},
     "output_type": "execute_result"
    }
   ],
   "source": [
    "# get the total number of vehicles\n",
    "eng.get_vehicle_count()"
   ]
  },
  {
   "cell_type": "code",
   "execution_count": 35,
   "id": "92567f3f",
   "metadata": {},
   "outputs": [],
   "source": [
    "# lets run it for 100 steps\n",
    "for i in range(100):\n",
    "    eng.next_step()"
   ]
  },
  {
   "cell_type": "code",
   "execution_count": 36,
   "id": "3b72c175",
   "metadata": {},
   "outputs": [
    {
     "name": "stdout",
     "output_type": "stream",
     "text": [
      "total number of vehicles:  39\n"
     ]
    }
   ],
   "source": [
    "# total number of vehicles\n",
    "print(\"total number of vehicles: \", eng.get_vehicle_count())"
   ]
  },
  {
   "cell_type": "code",
   "execution_count": 39,
   "id": "6178155a",
   "metadata": {},
   "outputs": [
    {
     "data": {
      "text/plain": [
       "['flow_11_0',\n",
       " 'flow_7_4',\n",
       " 'flow_10_4',\n",
       " 'flow_5_2',\n",
       " 'flow_5_3',\n",
       " 'flow_11_2',\n",
       " 'flow_11_3',\n",
       " 'flow_0_4',\n",
       " 'flow_0_8',\n",
       " 'flow_9_3',\n",
       " 'flow_11_1',\n",
       " 'flow_9_4',\n",
       " 'flow_6_3',\n",
       " 'flow_0_2',\n",
       " 'flow_0_5',\n",
       " 'flow_9_1',\n",
       " 'flow_1_8',\n",
       " 'flow_0_3',\n",
       " 'flow_1_5',\n",
       " 'flow_1_6',\n",
       " 'flow_1_4',\n",
       " 'flow_1_7',\n",
       " 'flow_10_3',\n",
       " 'flow_7_3',\n",
       " 'flow_4_2',\n",
       " 'flow_1_2',\n",
       " 'flow_8_4',\n",
       " 'flow_5_4',\n",
       " 'flow_11_4',\n",
       " 'flow_0_7',\n",
       " 'flow_8_3',\n",
       " 'flow_2_2',\n",
       " 'flow_9_2',\n",
       " 'flow_9_0',\n",
       " 'flow_6_4',\n",
       " 'flow_3_2',\n",
       " 'flow_6_2',\n",
       " 'flow_1_3',\n",
       " 'flow_0_6']"
      ]
     },
     "execution_count": 39,
     "metadata": {},
     "output_type": "execute_result"
    }
   ],
   "source": [
    "eng.get_vehicles()"
   ]
  },
  {
   "cell_type": "code",
   "execution_count": 40,
   "id": "dddda2a9",
   "metadata": {},
   "outputs": [
    {
     "data": {
      "text/plain": [
       "{'road_0_1_0_0': 3,\n",
       " 'road_0_1_0_1': 7,\n",
       " 'road_0_1_0_2': 2,\n",
       " 'road_1_0_1_0': 5,\n",
       " 'road_1_0_1_1': 1,\n",
       " 'road_1_0_1_2': 1,\n",
       " 'road_1_1_0_0': 0,\n",
       " 'road_1_1_0_1': 0,\n",
       " 'road_1_1_0_2': 0,\n",
       " 'road_1_1_1_0': 0,\n",
       " 'road_1_1_1_1': 0,\n",
       " 'road_1_1_1_2': 1,\n",
       " 'road_1_1_2_0': 0,\n",
       " 'road_1_1_2_1': 0,\n",
       " 'road_1_1_2_2': 1,\n",
       " 'road_1_1_3_0': 0,\n",
       " 'road_1_1_3_1': 0,\n",
       " 'road_1_1_3_2': 0,\n",
       " 'road_1_2_3_0': 5,\n",
       " 'road_1_2_3_1': 1,\n",
       " 'road_1_2_3_2': 1,\n",
       " 'road_2_1_2_0': 3,\n",
       " 'road_2_1_2_1': 7,\n",
       " 'road_2_1_2_2': 1}"
      ]
     },
     "execution_count": 40,
     "metadata": {},
     "output_type": "execute_result"
    }
   ],
   "source": [
    "eng.get_lane_vehicle_count()"
   ]
  },
  {
   "cell_type": "markdown",
   "id": "b3de2abd",
   "metadata": {},
   "source": [
    "Okay so, from here, we can take the approaching lane's counts.\n",
    "\n",
    "__NOTE TO SELF:__ index 0: left, 1: straight, 2: right"
   ]
  },
  {
   "cell_type": "code",
   "execution_count": 28,
   "id": "4ea9f89f",
   "metadata": {},
   "outputs": [
    {
     "data": {
      "text/plain": [
       "{'road_0_1_0_0': 1,\n",
       " 'road_0_1_0_1': 0,\n",
       " 'road_0_1_0_2': 0,\n",
       " 'road_1_0_1_0': 0,\n",
       " 'road_1_0_1_1': 0,\n",
       " 'road_1_0_1_2': 0,\n",
       " 'road_1_1_0_0': 0,\n",
       " 'road_1_1_0_1': 0,\n",
       " 'road_1_1_0_2': 0,\n",
       " 'road_1_1_1_0': 0,\n",
       " 'road_1_1_1_1': 0,\n",
       " 'road_1_1_1_2': 0,\n",
       " 'road_1_1_2_0': 0,\n",
       " 'road_1_1_2_1': 0,\n",
       " 'road_1_1_2_2': 0,\n",
       " 'road_1_1_3_0': 0,\n",
       " 'road_1_1_3_1': 0,\n",
       " 'road_1_1_3_2': 0,\n",
       " 'road_1_2_3_0': 0,\n",
       " 'road_1_2_3_1': 0,\n",
       " 'road_1_2_3_2': 0,\n",
       " 'road_2_1_2_0': 1,\n",
       " 'road_2_1_2_1': 0,\n",
       " 'road_2_1_2_2': 0}"
      ]
     },
     "execution_count": 28,
     "metadata": {},
     "output_type": "execute_result"
    }
   ],
   "source": [
    "eng.get_lane_waiting_vehicle_count()"
   ]
  },
  {
   "cell_type": "markdown",
   "id": "85e76616",
   "metadata": {},
   "source": [
    "Incoming lanes: road_0_1_0, road_2_1_2, road_1_2_3, road_1_0_1.<br>\n",
    "Now for getting the queue length, we have two options, one is, separate queue for each lane, or a cumulative queue for just the road. Ill do both for now."
   ]
  },
  {
   "cell_type": "code",
   "execution_count": 46,
   "id": "2b9a2abe",
   "metadata": {},
   "outputs": [],
   "source": [
    "laneLengths = {}\n",
    "for k,v in eng.get_lane_vehicle_count().items():\n",
    "    if k.startswith('road_0_1_0') or k.startswith('road_2_1_2') or k.startswith('road_1_2_3') or k.startswith('road_1_0_1'):\n",
    "        laneLengths[k] = v"
   ]
  },
  {
   "cell_type": "code",
   "execution_count": 51,
   "id": "f899b6c2",
   "metadata": {},
   "outputs": [],
   "source": [
    "cumLaneLenghts = {'road_0_1_0':0, 'road_2_1_2':0, 'road_1_2_3':0, 'road_1_0_1':0}\n",
    "for k,v in laneLengths.items():\n",
    "    cumLaneLenghts[k[:-2]] += v"
   ]
  },
  {
   "cell_type": "code",
   "execution_count": 52,
   "id": "c614feef",
   "metadata": {},
   "outputs": [
    {
     "data": {
      "text/plain": [
       "({'road_0_1_0_0': 3,\n",
       "  'road_0_1_0_1': 7,\n",
       "  'road_0_1_0_2': 2,\n",
       "  'road_1_0_1_0': 5,\n",
       "  'road_1_0_1_1': 1,\n",
       "  'road_1_0_1_2': 1,\n",
       "  'road_1_2_3_0': 5,\n",
       "  'road_1_2_3_1': 1,\n",
       "  'road_1_2_3_2': 1,\n",
       "  'road_2_1_2_0': 3,\n",
       "  'road_2_1_2_1': 7,\n",
       "  'road_2_1_2_2': 1},\n",
       " {'road_0_1_0': 12, 'road_2_1_2': 11, 'road_1_2_3': 7, 'road_1_0_1': 7})"
      ]
     },
     "execution_count": 52,
     "metadata": {},
     "output_type": "execute_result"
    }
   ],
   "source": [
    "laneLengths, cumLaneLenghts"
   ]
  },
  {
   "cell_type": "markdown",
   "id": "778c37cc",
   "metadata": {},
   "source": [
    "#### 2. Reward Function Definition\n",
    "\n",
    "Question regarding the reward function. Im using [colight's](https://arxiv.org/abs/1905.05717) definition of reward. Which is the sum of queue lengths of approaching lanes, for time t. I think its just for that specific distinct time-step *t* and not like *t-x* to *t*, where x can be interval length, but I need to confirm."
   ]
  },
  {
   "cell_type": "code",
   "execution_count": 55,
   "id": "c2629484",
   "metadata": {},
   "outputs": [
    {
     "data": {
      "text/plain": [
       "-37"
      ]
     },
     "execution_count": 55,
     "metadata": {},
     "output_type": "execute_result"
    }
   ],
   "source": [
    "-1 * sum(laneLengths.values())"
   ]
  },
  {
   "cell_type": "markdown",
   "id": "f6295736",
   "metadata": {},
   "source": [
    "#### 3. Controlling traffic lights using code."
   ]
  },
  {
   "cell_type": "code",
   "execution_count": 4,
   "id": "2b76c063",
   "metadata": {},
   "outputs": [],
   "source": [
    "# moving the simulation adhead for 10 seconds\n",
    "for i in range(10):\n",
    "    eng.next_step()"
   ]
  },
  {
   "cell_type": "code",
   "execution_count": 7,
   "id": "dd41c6f5",
   "metadata": {},
   "outputs": [],
   "source": [
    "# setting the traffic light to a different phase\n",
    "eng.set_tl_phase(intersection_id='intersection_1_1', phase_id=1)"
   ]
  },
  {
   "cell_type": "code",
   "execution_count": 8,
   "id": "55a31d2c",
   "metadata": {},
   "outputs": [],
   "source": [
    "# run for the next 5 seconds\n",
    "for i in range(5):\n",
    "    eng.next_step()"
   ]
  },
  {
   "cell_type": "code",
   "execution_count": 9,
   "id": "5c6b9ef2",
   "metadata": {},
   "outputs": [],
   "source": [
    "# setting the traffic light to a different phase\n",
    "eng.set_tl_phase(intersection_id='intersection_1_1', phase_id=2)"
   ]
  },
  {
   "cell_type": "code",
   "execution_count": 10,
   "id": "9ac3c513",
   "metadata": {},
   "outputs": [],
   "source": [
    "# running for the next 9000 seconds\n",
    "for i in range(9000):\n",
    "    eng.next_step()"
   ]
  },
  {
   "cell_type": "markdown",
   "id": "e4ac9943",
   "metadata": {},
   "source": [
    "# Creating the env class"
   ]
  },
  {
   "cell_type": "code",
   "execution_count": 23,
   "id": "5d6667e4",
   "metadata": {},
   "outputs": [],
   "source": [
    "class CityFlowEnv:\n",
    "    '''\n",
    "        This class is the environment implemented in cityflow for a single intersection.\n",
    "    '''\n",
    "    def __init__(self, maxSteps, configPath=os.path.join('generated', 'config.json'), numThreads=1):\n",
    "        # initializing the cityflow engine\n",
    "        self.engine = cityflow.Engine(configPath, thread_num=numThreads)\n",
    "        self.numSteps = 0 # to track how many steps have been taken\n",
    "        self.maxSteps = maxSteps # the maximum number of steps allowed\n",
    "    \n",
    "    def _getState(self):\n",
    "        '''\n",
    "            This function returns the state the environment is in right now\n",
    "        '''\n",
    "        # get lanecounts\n",
    "        laneCounts = self.engine.get_lane_vehicle_count()\n",
    "        # add to a dictionary and return\n",
    "        cumLaneLenghts = {'road_0_1_0':0, 'road_2_1_2':0, 'road_1_2_3':0, 'road_1_0_1':0}\n",
    "        for k,v in laneCounts.items():\n",
    "            if k.startswith('road_0_1_0'):\n",
    "                cumLaneLenghts['road_0_1_0'] += v\n",
    "            elif k.startswith('road_2_1_2'):\n",
    "                cumLaneLenghts['road_2_1_2'] += v\n",
    "            elif k.startswith('road_1_2_3'):\n",
    "                cumLaneLenghts['road_1_2_3'] += v\n",
    "            elif k.startswith('road_1_0_1'):\n",
    "                cumLaneLenghts['road_1_0_1'] += v\n",
    "            else:\n",
    "                continue\n",
    "        \n",
    "        return list(cumLaneLenghts.values())\n",
    "    \n",
    "    def _getReward(self):\n",
    "        '''\n",
    "            This function returns the reward after taking the current state\n",
    "        '''\n",
    "        # NOTE: reward will be generated after the action is done, so we need to implement the do_action and simulate traffic for the next 10 seconds\n",
    "        # after that, calculate the reward\n",
    "        # get the lanelengths\n",
    "        laneLengths = -1 * sum(self._getState())\n",
    "        return laneLengths\n",
    "    \n",
    "    def _peformAction(self):\n",
    "        '''\n",
    "            This function will take action, which is setting the traffic light to a specific phase.\n",
    "        '''\n",
    "        pass\n",
    "        # set trafficlight phase\n",
    "        # simulate for the next 10 seconds\n",
    "        self._step(10)\n",
    "\n",
    "    def _step(self, t=10):\n",
    "        '''\n",
    "            This function steps the environment for the next t seconds.\n",
    "        '''\n",
    "        # NOTE TO SELF: rn, the interval is hardcoded to 1 second, same as the config definition, REMEMBER to make this dynamic\n",
    "        finished = False\n",
    "        for i in range(t):\n",
    "            self.numSteps+=1\n",
    "            if self.numSteps==self.maxSteps:\n",
    "                finished = True\n",
    "                break\n",
    "            self.engine.next_step()\n",
    "        return finished\n",
    "\n",
    "    def take_action(self, action, t=10, intersection_id='intersection_1_1'):\n",
    "        '''\n",
    "            This is the main callable function for taking a step in the environment. It does the following:\n",
    "                1. takes the action.\n",
    "                2. simulates for the next t seconds.\n",
    "                3. gets the reward\n",
    "                4. get next state\n",
    "            Action will be the index of the tl phase for the intersection defined as defined in the roadnet file for that intersection\n",
    "        '''\n",
    "        # take action, set the tl phase to the provided index\n",
    "        self.engine.set_tl_phase(intersection_id, action)\n",
    "        # run the engine\n",
    "        finished = self._step(t)\n",
    "        # get the state\n",
    "        next_state = self._getState()\n",
    "        # get the reward\n",
    "        r = self._getReward()\n",
    "\n",
    "        return next_state, r, finished"
   ]
  },
  {
   "cell_type": "code",
   "execution_count": 24,
   "id": "b2817086",
   "metadata": {},
   "outputs": [],
   "source": [
    "# declaring an env object\n",
    "env = CityFlowEnv(maxSteps = 10800)"
   ]
  },
  {
   "cell_type": "code",
   "execution_count": 25,
   "id": "410e354a",
   "metadata": {},
   "outputs": [],
   "source": [
    "# taking action, setting the phase to index 0\n",
    "nextState, reward, finished = env.take_action(0)"
   ]
  },
  {
   "cell_type": "code",
   "execution_count": 26,
   "id": "793aa0f4",
   "metadata": {},
   "outputs": [],
   "source": [
    "# doing it again\n",
    "# taking action, setting the phase to index 0\n",
    "nextState, reward, finished = env.take_action(0)"
   ]
  },
  {
   "cell_type": "code",
   "execution_count": 27,
   "id": "fc4673e1",
   "metadata": {},
   "outputs": [],
   "source": [
    "# taking action, setting the phase to index 1\n",
    "nextState, reward, finished = env.take_action(1)"
   ]
  },
  {
   "cell_type": "code",
   "execution_count": 28,
   "id": "c669e3fa",
   "metadata": {},
   "outputs": [],
   "source": [
    "# taking action, setting the phase to index 2\n",
    "nextState, reward, finished = env.take_action(2)"
   ]
  },
  {
   "cell_type": "code",
   "execution_count": 29,
   "id": "34d80ae8",
   "metadata": {},
   "outputs": [],
   "source": [
    "# doing it again\n",
    "# taking action, setting the phase to index 2\n",
    "nextState, reward, finished = env.take_action(2)"
   ]
  },
  {
   "cell_type": "code",
   "execution_count": 30,
   "id": "ef319703",
   "metadata": {},
   "outputs": [],
   "source": [
    "# taking action, setting the phase to index 2\n",
    "nextState, reward, finished = env.take_action(2)"
   ]
  },
  {
   "cell_type": "code",
   "execution_count": 31,
   "id": "4697e565",
   "metadata": {},
   "outputs": [],
   "source": [
    "# taking action, setting the phase to index 3\n",
    "nextState, reward, finished = env.take_action(3)"
   ]
  },
  {
   "cell_type": "code",
   "execution_count": 32,
   "id": "d1c4a720",
   "metadata": {},
   "outputs": [
    {
     "data": {
      "text/plain": [
       "([9, 7, 2, 2], -20, False)"
      ]
     },
     "execution_count": 32,
     "metadata": {},
     "output_type": "execute_result"
    }
   ],
   "source": [
    "nextState, reward, finished"
   ]
  },
  {
   "cell_type": "code",
   "execution_count": 33,
   "id": "9522647d",
   "metadata": {},
   "outputs": [
    {
     "data": {
      "text/plain": [
       "False"
      ]
     },
     "execution_count": 33,
     "metadata": {},
     "output_type": "execute_result"
    }
   ],
   "source": [
    "# stepping for the next 8000 seconds\n",
    "env._step(8000)"
   ]
  },
  {
   "cell_type": "code",
   "execution_count": 34,
   "id": "758bcdd0",
   "metadata": {},
   "outputs": [
    {
     "data": {
      "text/plain": [
       "[73, 73, 2, 72]"
      ]
     },
     "execution_count": 34,
     "metadata": {},
     "output_type": "execute_result"
    }
   ],
   "source": [
    "env._getState()"
   ]
  },
  {
   "cell_type": "code",
   "execution_count": null,
   "id": "fbd81d25",
   "metadata": {},
   "outputs": [],
   "source": []
  }
 ],
 "metadata": {
  "kernelspec": {
   "display_name": "base",
   "language": "python",
   "name": "python3"
  },
  "language_info": {
   "codemirror_mode": {
    "name": "ipython",
    "version": 3
   },
   "file_extension": ".py",
   "mimetype": "text/x-python",
   "name": "python",
   "nbconvert_exporter": "python",
   "pygments_lexer": "ipython3",
   "version": "3.9.16"
  }
 },
 "nbformat": 4,
 "nbformat_minor": 5
}
